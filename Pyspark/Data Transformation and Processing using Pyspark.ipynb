{
 "cells": [
  {
   "cell_type": "markdown",
   "metadata": {},
   "source": [
    "# Data Processing using PySpark\n",
    "## Ivan Muhammad Siegfried"
   ]
  },
  {
   "cell_type": "code",
   "execution_count": 1,
   "metadata": {},
   "outputs": [],
   "source": [
    "# Import required packages and build an app named data_processing\n",
    "from pyspark.sql import SparkSession\n",
    "spark=SparkSession.builder.appName('data_processing').getOrCreate()"
   ]
  },
  {
   "cell_type": "code",
   "execution_count": 2,
   "metadata": {},
   "outputs": [],
   "source": [
    "# Import pyspark mathematical functions and nall data types\n",
    "import pyspark.sql.functions as fx\n",
    "from pyspark.sql.types import *"
   ]
  },
  {
   "cell_type": "code",
   "execution_count": 3,
   "metadata": {},
   "outputs": [],
   "source": [
    "# Read data from csv\n",
    "## inferSchema = True meaning that the data types will be all strings.\n",
    "df=spark.read.csv(\"customer_data.csv\",header=True,inferSchema=True)"
   ]
  },
  {
   "cell_type": "code",
   "execution_count": 4,
   "metadata": {},
   "outputs": [
    {
     "data": {
      "text/plain": [
       "2000"
      ]
     },
     "execution_count": 4,
     "metadata": {},
     "output_type": "execute_result"
    }
   ],
   "source": [
    "df.count()"
   ]
  },
  {
   "cell_type": "code",
   "execution_count": 5,
   "metadata": {},
   "outputs": [
    {
     "data": {
      "text/plain": [
       "7"
      ]
     },
     "execution_count": 5,
     "metadata": {},
     "output_type": "execute_result"
    }
   ],
   "source": [
    "len(df.columns)"
   ]
  },
  {
   "cell_type": "code",
   "execution_count": 6,
   "metadata": {},
   "outputs": [
    {
     "name": "stdout",
     "output_type": "stream",
     "text": [
      "root\n",
      " |-- Customer_subtype: string (nullable = true)\n",
      " |-- Number_of_houses: integer (nullable = true)\n",
      " |-- Avg_size_household: integer (nullable = true)\n",
      " |-- Avg_age: string (nullable = true)\n",
      " |-- Customer_main_type: string (nullable = true)\n",
      " |-- Avg_Salary: integer (nullable = true)\n",
      " |-- label: integer (nullable = true)\n",
      "\n"
     ]
    }
   ],
   "source": [
    "df.printSchema()"
   ]
  },
  {
   "cell_type": "code",
   "execution_count": 10,
   "metadata": {},
   "outputs": [
    {
     "name": "stdout",
     "output_type": "stream",
     "text": [
      "-RECORD 0----------------------------------------\n",
      " Customer_subtype   | Lower class large families \n",
      " Number_of_houses   | 1                          \n",
      " Avg_size_household | 3                          \n",
      " Avg_age            | 30-40 years                \n",
      " Customer_main_type | Family with grown ups      \n",
      " Avg_Salary         | 44905                      \n",
      " label              | 0                          \n",
      " salary_category    | upper                      \n",
      "-RECORD 1----------------------------------------\n",
      " Customer_subtype   | Mixed small town dwellers  \n",
      " Number_of_houses   | 1                          \n",
      " Avg_size_household | 2                          \n",
      " Avg_age            | 30-40 years                \n",
      " Customer_main_type | Family with grown ups      \n",
      " Avg_Salary         | 37575                      \n",
      " label              | 0                          \n",
      " salary_category    | upper                      \n",
      "only showing top 2 rows\n",
      "\n"
     ]
    }
   ],
   "source": [
    "df.show(n=2, truncate=False, vertical=True)"
   ]
  },
  {
   "cell_type": "markdown",
   "metadata": {},
   "source": [
    "## Data Filtering"
   ]
  },
  {
   "cell_type": "code",
   "execution_count": 13,
   "metadata": {},
   "outputs": [
    {
     "name": "stdout",
     "output_type": "stream",
     "text": [
      "-RECORD 0----------------------------------\n",
      " Customer_subtype   | High status seniors  \n",
      " Number_of_houses   | 2                    \n",
      " Avg_size_household | 3                    \n",
      " Avg_age            | 40-50 years          \n",
      " Customer_main_type | Successful hedonists \n",
      " Avg_Salary         | 6138618              \n",
      " label              | 0                    \n",
      " salary_category    | upper                \n",
      "-RECORD 1----------------------------------\n",
      " Customer_subtype   | High status seniors  \n",
      " Number_of_houses   | 2                    \n",
      " Avg_size_household | 3                    \n",
      " Avg_age            | 40-50 years          \n",
      " Customer_main_type | Successful hedonists \n",
      " Avg_Salary         | 23723162             \n",
      " label              | 0                    \n",
      " salary_category    | upper                \n",
      "\n"
     ]
    }
   ],
   "source": [
    "df.filter(df['Avg_Salary'] > 1000000).filter(df['Number_of_houses']==2).show(truncate=False, vertical=True)"
   ]
  },
  {
   "cell_type": "markdown",
   "metadata": {},
   "source": [
    "## Data Grouping"
   ]
  },
  {
   "cell_type": "code",
   "execution_count": 15,
   "metadata": {},
   "outputs": [
    {
     "name": "stdout",
     "output_type": "stream",
     "text": [
      "+--------------------+-----+\n",
      "|  Customer_main_type|count|\n",
      "+--------------------+-----+\n",
      "|             Farmers|   93|\n",
      "|       Career Loners|   15|\n",
      "|Retired and Relig...|  202|\n",
      "|Successful hedonists|  194|\n",
      "|         Living well|  178|\n",
      "|      Average Family|  308|\n",
      "|    Cruising Seniors|   60|\n",
      "|Conservative fami...|  236|\n",
      "|      Driven Growers|  172|\n",
      "|Family with grown...|  542|\n",
      "+--------------------+-----+\n",
      "\n"
     ]
    }
   ],
   "source": [
    "df.groupBy('Customer_main_type').count().show()"
   ]
  },
  {
   "cell_type": "code",
   "execution_count": 22,
   "metadata": {},
   "outputs": [
    {
     "name": "stdout",
     "output_type": "stream",
     "text": [
      "Aggregation for  Customer_subtype Columns\n",
      "+--------------------+-----+\n",
      "|    Customer_subtype|count|\n",
      "+--------------------+-----+\n",
      "|Lower class large...|  288|\n",
      "|Traditional families|  129|\n",
      "|Middle class fami...|  122|\n",
      "|Large religious f...|  107|\n",
      "|Modern, complete ...|   93|\n",
      "|Couples with teen...|   83|\n",
      "|    Young and rising|   78|\n",
      "| High status seniors|   76|\n",
      "|Low income catholics|   72|\n",
      "|       Mixed seniors|   71|\n",
      "|    Village families|   68|\n",
      "|        Mixed rurals|   67|\n",
      "|       Stable family|   62|\n",
      "|Young all america...|   62|\n",
      "|Large family, emp...|   56|\n",
      "| Young, low educated|   56|\n",
      "|     Family starters|   55|\n",
      "|High Income, expe...|   52|\n",
      "|Mixed small town ...|   47|\n",
      "|Religious elderly...|   47|\n",
      "+--------------------+-----+\n",
      "only showing top 20 rows\n",
      "\n",
      "Aggregation for  Number_of_houses Columns\n",
      "+----------------+-----+\n",
      "|Number_of_houses|count|\n",
      "+----------------+-----+\n",
      "|               1| 1808|\n",
      "|               2|  178|\n",
      "|               3|   12|\n",
      "|              10|    1|\n",
      "|               5|    1|\n",
      "+----------------+-----+\n",
      "\n",
      "Aggregation for  Avg_size_household Columns\n",
      "+------------------+-----+\n",
      "|Avg_size_household|count|\n",
      "+------------------+-----+\n",
      "|                 3|  900|\n",
      "|                 2|  730|\n",
      "|                 4|  255|\n",
      "|                 1|   94|\n",
      "|                 5|   21|\n",
      "+------------------+-----+\n",
      "\n",
      "Aggregation for  Avg_age Columns\n",
      "+-----------+-----+\n",
      "|    Avg_age|count|\n",
      "+-----------+-----+\n",
      "|40-50 years| 1028|\n",
      "|30-40 years|  496|\n",
      "|50-60 years|  373|\n",
      "|60-70 years|   64|\n",
      "|20-30 years|   31|\n",
      "|70-80 years|    8|\n",
      "+-----------+-----+\n",
      "\n",
      "Aggregation for  Customer_main_type Columns\n",
      "+--------------------+-----+\n",
      "|  Customer_main_type|count|\n",
      "+--------------------+-----+\n",
      "|Family with grown...|  542|\n",
      "|      Average Family|  308|\n",
      "|Conservative fami...|  236|\n",
      "|Retired and Relig...|  202|\n",
      "|Successful hedonists|  194|\n",
      "|         Living well|  178|\n",
      "|      Driven Growers|  172|\n",
      "|             Farmers|   93|\n",
      "|    Cruising Seniors|   60|\n",
      "|       Career Loners|   15|\n",
      "+--------------------+-----+\n",
      "\n",
      "Aggregation for  label Columns\n",
      "+-----+-----+\n",
      "|label|count|\n",
      "+-----+-----+\n",
      "|    0| 1879|\n",
      "|    1|  121|\n",
      "+-----+-----+\n",
      "\n",
      "Aggregation for  salary_category Columns\n",
      "+---------------+-----+\n",
      "|salary_category|count|\n",
      "+---------------+-----+\n",
      "|          upper| 1736|\n",
      "|          lower|  264|\n",
      "+---------------+-----+\n",
      "\n"
     ]
    }
   ],
   "source": [
    "for col in df.columns:\n",
    "    if col!='Avg_Salary':\n",
    "        print(\"Aggregation for \",col,\"Columns\")\n",
    "        df.groupBy(col).count().orderBy('count',ascending=False).show()"
   ]
  },
  {
   "cell_type": "markdown",
   "metadata": {},
   "source": [
    "## Data Aggregation "
   ]
  },
  {
   "cell_type": "code",
   "execution_count": null,
   "metadata": {},
   "outputs": [],
   "source": [
    "df.groupBy('Customer_main_type').agg(F.max('Avg_Salary').alias('max_salary')).orderBy('max_salary',descending=True)"
   ]
  },
  {
   "cell_type": "markdown",
   "metadata": {},
   "source": [
    "## Data Manipulation"
   ]
  },
  {
   "cell_type": "code",
   "execution_count": 8,
   "metadata": {},
   "outputs": [
    {
     "name": "stdout",
     "output_type": "stream",
     "text": [
      "-RECORD 0----------------------------------------\n",
      " Customer_subtype   | Lower class large families \n",
      " Number_of_houses   | 1                          \n",
      " Avg_size_household | 3                          \n",
      " Avg_age            | 30-40 years                \n",
      " Customer_main_type | Family with grown ups      \n",
      " Avg_Salary         | 44905                      \n",
      " label              | 0                          \n",
      " salary_category    | upper                      \n",
      "-RECORD 1----------------------------------------\n",
      " Customer_subtype   | Mixed small town dwellers  \n",
      " Number_of_houses   | 1                          \n",
      " Avg_size_household | 2                          \n",
      " Avg_age            | 30-40 years                \n",
      " Customer_main_type | Family with grown ups      \n",
      " Avg_Salary         | 37575                      \n",
      " label              | 0                          \n",
      " salary_category    | upper                      \n",
      "-RECORD 2----------------------------------------\n",
      " Customer_subtype   | Mixed small town dwellers  \n",
      " Number_of_houses   | 1                          \n",
      " Avg_size_household | 2                          \n",
      " Avg_age            | 30-40 years                \n",
      " Customer_main_type | Family with grown ups      \n",
      " Avg_Salary         | 27915                      \n",
      " label              | 0                          \n",
      " salary_category    | upper                      \n",
      "only showing top 3 rows\n",
      "\n"
     ]
    }
   ],
   "source": [
    "xx\n",
    "\n",
    "#udf: user defined function\n",
    "from pyspark.sql.functions import udf,rank, col,row_number\n",
    "def salary_category(salary):\n",
    "    if salary<15000:\n",
    "        return('lower')\n",
    "    else:\n",
    "        return('upper')\n",
    "\n",
    "#create age category udf \n",
    "salary_udf=udf(salary_category,StringType())\n",
    "#create the bucket column by applying udf\n",
    "df=df.withColumn('salary_category',salary_udf(df['Avg_Salary']))\n",
    "df.show(n=3, truncate=False, vertical=True)"
   ]
  },
  {
   "cell_type": "markdown",
   "metadata": {},
   "source": [
    "## Data Summary"
   ]
  },
  {
   "cell_type": "code",
   "execution_count": 23,
   "metadata": {},
   "outputs": [
    {
     "name": "stdout",
     "output_type": "stream",
     "text": [
      "+-------+-----------------+\n",
      "|summary|       Avg_Salary|\n",
      "+-------+-----------------+\n",
      "|  count|             2000|\n",
      "|   mean|     1616908.0835|\n",
      "| stddev|6822647.757312146|\n",
      "|    min|             1361|\n",
      "|    25%|            20315|\n",
      "|    50%|            31421|\n",
      "|    75%|            42949|\n",
      "|    max|         48919896|\n",
      "+-------+-----------------+\n",
      "\n"
     ]
    }
   ],
   "source": [
    "df.select('Avg_Salary').summary().show()"
   ]
  },
  {
   "cell_type": "markdown",
   "metadata": {},
   "source": [
    "## Join Data "
   ]
  },
  {
   "cell_type": "code",
   "execution_count": 24,
   "metadata": {},
   "outputs": [],
   "source": [
    "new_region = spark.createDataFrame([('Family with grown ups','FGU'),\n",
    "                                    ('Driven Growers','DG'),\n",
    "                                    ('Conservative families','CF'),\n",
    "                                    ('Cruising Seniors','CS'),\n",
    "                                    ('Average Family ','AF'),\n",
    "                                    ('Living well','LW'),\n",
    "                                    ('Successful hedonists','SH'),\n",
    "                                    ('Retired and Religious','RR'),\n",
    "                                   ('Career Loners','CL'),('Farmers','FM')],schema=StructType().add(\"Customer_main_type\",\"string\").add(\"Region Code\",\"string\")) # Columns Name"
   ]
  },
  {
   "cell_type": "code",
   "execution_count": 25,
   "metadata": {},
   "outputs": [
    {
     "name": "stdout",
     "output_type": "stream",
     "text": [
      "+--------------------+-----------+\n",
      "|  Customer_main_type|Region Code|\n",
      "+--------------------+-----------+\n",
      "|Family with grown...|        FGU|\n",
      "|      Driven Growers|         DG|\n",
      "|Conservative fami...|         CF|\n",
      "|    Cruising Seniors|         CS|\n",
      "|     Average Family |         AF|\n",
      "|         Living well|         LW|\n",
      "|Successful hedonists|         SH|\n",
      "|Retired and Relig...|         RR|\n",
      "|       Career Loners|         CL|\n",
      "|             Farmers|         FM|\n",
      "+--------------------+-----------+\n",
      "\n"
     ]
    }
   ],
   "source": [
    "new_region.show()"
   ]
  },
  {
   "cell_type": "code",
   "execution_count": 26,
   "metadata": {},
   "outputs": [],
   "source": [
    "new_df=df.join(new_region,on='Customer_main_type')"
   ]
  },
  {
   "cell_type": "code",
   "execution_count": 31,
   "metadata": {},
   "outputs": [
    {
     "name": "stdout",
     "output_type": "stream",
     "text": [
      "+-----------+-----+\n",
      "|Region Code|count|\n",
      "+-----------+-----+\n",
      "|        FGU|  542|\n",
      "|         CF|  236|\n",
      "|         RR|  202|\n",
      "|         SH|  194|\n",
      "|         LW|  178|\n",
      "|         DG|  172|\n",
      "|         FM|   93|\n",
      "|         CS|   60|\n",
      "|         CL|   15|\n",
      "+-----------+-----+\n",
      "\n"
     ]
    }
   ],
   "source": [
    "new_df.groupby(\"Region Code\").count().orderBy('count',ascending=False).show()"
   ]
  },
  {
   "cell_type": "code",
   "execution_count": 35,
   "metadata": {},
   "outputs": [
    {
     "name": "stdout",
     "output_type": "stream",
     "text": [
      "+--------------------+-----------+-----------+-----------+-----------+-----------+-----------+\n",
      "|    Customer_subtype|20-30 years|30-40 years|40-50 years|50-60 years|60-70 years|70-80 years|\n",
      "+--------------------+-----------+-----------+-----------+-----------+-----------+-----------+\n",
      "|Large family, emp...|          0|     739471|    1002442|      98687|          0|          0|\n",
      "|Religious elderly...|          0|      34406|     454491|     764425|     133027|      49059|\n",
      "|Large religious f...|          0|    1092108|    1471683|     462562|     146432|          0|\n",
      "|Modern, complete ...|          0|    1000307|    1791359|     144902|          0|          0|\n",
      "|    Village families|          0|     108090|    1427712|     670762|          0|          0|\n",
      "|Young all america...|          0|     996923|     750607|      85395|          0|          0|\n",
      "|Young urban have-...|          0|      47272|          0|      55732|          0|          0|\n",
      "|Young seniors in ...|          0|      43302|     255943|     151629|     211439|          0|\n",
      "|Fresh masters in ...|          0|          0|          0|      55290|          0|          0|\n",
      "|High Income, expe...|          0|  108086253|  511727108|  604871874|   14985291|          0|\n",
      "|Lower class large...|          0|    1402402|    4751854|    1326885|          0|      10496|\n",
      "| Residential elderly|          0|          0|          0|     106037|      67160|          0|\n",
      "|Senior cosmopolitans|          0|          0|          0|      49903|          0|          0|\n",
      "|        Mixed rurals|          0|     288533|    1582794|      76615|          0|          0|\n",
      "|Career and childcare|          0|     404167|     558889|      30605|          0|          0|\n",
      "|Low income catholics|          0|     168294|    1053085|     320376|      21637|          0|\n",
      "|Mixed apartment d...|          0|     642757|     247624|     115599|          0|          0|\n",
      "|Seniors in apartm...|          0|          0|      47658|     207622|     228541|      27724|\n",
      "|Middle class fami...|          0|     711284|    2747734|     393667|          0|          0|\n",
      "|Traditional families|      69390|    1289377|    1978099|     453392|          0|          0|\n",
      "+--------------------+-----------+-----------+-----------+-----------+-----------+-----------+\n",
      "only showing top 20 rows\n",
      "\n"
     ]
    }
   ],
   "source": [
    "df.groupBy('Customer_subtype').pivot('Avg_age').sum('Avg_salary').fillna(0).show()"
   ]
  },
  {
   "cell_type": "code",
   "execution_count": null,
   "metadata": {},
   "outputs": [],
   "source": []
  }
 ],
 "metadata": {
  "kernelspec": {
   "display_name": "Python 3",
   "language": "python",
   "name": "python3"
  },
  "language_info": {
   "codemirror_mode": {
    "name": "ipython",
    "version": 3
   },
   "file_extension": ".py",
   "mimetype": "text/x-python",
   "name": "python",
   "nbconvert_exporter": "python",
   "pygments_lexer": "ipython3",
   "version": "3.8.5"
  }
 },
 "nbformat": 4,
 "nbformat_minor": 4
}
